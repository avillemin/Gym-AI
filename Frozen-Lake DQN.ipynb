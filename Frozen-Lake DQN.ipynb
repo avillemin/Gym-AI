{
 "cells": [
  {
   "cell_type": "markdown",
   "metadata": {},
   "source": [
    "# Gym.OpenAI : Frozen Lake - Introduction to Deep Q-Learning\n",
    "\n",
    "OpenAI environment : https://gym.openai.com/envs/FrozenLake-v0/\n",
    "\n",
    "Here I wanted to realize a deep Q-network from scratch by my own, using pyTorch. I implemented it basically, without any Replay Memory or Eligibility Trace, to really understand how a basic deep Q-network was working.\n",
    "\n",
    "The agent controls the movement of a character in a grid world. Some tiles of the grid are walkable, and others lead to the agent falling into the water. Additionally, the movement direction of the agent is uncertain and only partially depends on the chosen direction. The agent is rewarded for finding a walkable path to a goal tile.\n",
    "\n",
    "The surface is described using a grid like the following:\n",
    "\n",
    "SFFF       (S: starting point, safe)  \n",
    "FHFH       (F: frozen surface, safe)  \n",
    "FFFH       (H: hole, fall to your doom)  \n",
    "HFFG       (G: goal, where the frisbee is located)"
   ]
  },
  {
   "cell_type": "code",
   "execution_count": 1,
   "metadata": {
    "ExecuteTime": {
     "end_time": "2018-08-30T18:24:45.459056Z",
     "start_time": "2018-08-30T18:24:41.584419Z"
    }
   },
   "outputs": [
    {
     "name": "stderr",
     "output_type": "stream",
     "text": [
      "C:\\Users\\Portable\\Anaconda3\\lib\\site-packages\\h5py\\__init__.py:36: FutureWarning: Conversion of the second argument of issubdtype from `float` to `np.floating` is deprecated. In future, it will be treated as `np.float64 == np.dtype(float).type`.\n",
      "  from ._conv import register_converters as _register_converters\n",
      "Using TensorFlow backend.\n"
     ]
    }
   ],
   "source": [
    "import numpy as np\n",
    "import torch.nn as nn\n",
    "import torch.nn.functional as F\n",
    "from torch.autograd import Variable\n",
    "import torch.optim as optim\n",
    "import torch\n",
    "import time\n",
    "\n",
    "import matplotlib.pyplot as plt\n",
    "\n",
    "from keras.utils.np_utils import to_categorical\n",
    "\n",
    "import gym"
   ]
  },
  {
   "cell_type": "code",
   "execution_count": 2,
   "metadata": {
    "ExecuteTime": {
     "end_time": "2018-08-30T18:24:45.859988Z",
     "start_time": "2018-08-30T18:24:45.461051Z"
    }
   },
   "outputs": [],
   "source": [
    "env = gym.make('FrozenLake-v0')\n",
    "nb_neurons = 45\n",
    "#temperature = 1\n",
    "learning_rate = 0.05\n",
    "gamma = 0.99\n",
    "e = 0.2\n",
    "number_episodes = 2000\n",
    "\n",
    "all_reward = []"
   ]
  },
  {
   "cell_type": "code",
   "execution_count": 3,
   "metadata": {
    "ExecuteTime": {
     "end_time": "2018-08-30T18:24:45.875942Z",
     "start_time": "2018-08-30T18:24:45.861979Z"
    }
   },
   "outputs": [],
   "source": [
    "class brain(nn.Module):\n",
    "    \n",
    "    def __init__(self):\n",
    "        super(brain,self).__init__()\n",
    "        self.fc1 = nn.Linear(env.observation_space.n,nb_neurons)\n",
    "        self.fc2 = nn.Linear(nb_neurons,env.action_space.n)\n",
    "    \n",
    "    def forward(self,state):\n",
    "        x = F.relu(self.fc1(state))\n",
    "        q_values = self.fc2(x)\n",
    "        return q_values"
   ]
  },
  {
   "cell_type": "code",
   "execution_count": 4,
   "metadata": {
    "ExecuteTime": {
     "end_time": "2018-08-30T18:24:45.985450Z",
     "start_time": "2018-08-30T18:24:45.877936Z"
    }
   },
   "outputs": [],
   "source": [
    "class DQN():\n",
    "    def __init__(self,gamma):\n",
    "        self.model=brain()\n",
    "        self.gamma = gamma\n",
    "        self.optimizer = optim.SGD(self.model.parameters(), lr = learning_rate)\n",
    "        \n",
    "    def select_action(self,state):\n",
    "        #probs=F.softmax(self.model(torch.Tensor(state).detach())*temperature)\n",
    "        #action = probs.multinomial(4)\n",
    "        output = self.model(torch.Tensor(state).detach()).data\n",
    "        action = np.argmax(output)\n",
    "        if np.random.rand(1)<e:\n",
    "            action = env.action_space.sample()\n",
    "        return action\n",
    "    \n",
    "    def learn(self, current_state, next_state,reward,action,done):\n",
    "        output = self.model(current_state)\n",
    "        next_output = self.model(next_state).detach()\n",
    "        target = (reward + self.gamma*(next_output.detach().max()[0]))\n",
    "        if done:\n",
    "            target = torch.Tensor([reward])\n",
    "        td_loss = F.smooth_l1_loss(output[action], target)\n",
    "        \n",
    "        self.optimizer.zero_grad()\n",
    "        td_loss.backward()\n",
    "        self.optimizer.step()\n",
    "        "
   ]
  },
  {
   "cell_type": "markdown",
   "metadata": {},
   "source": [
    "Let's have a look at the initial weights :"
   ]
  },
  {
   "cell_type": "code",
   "execution_count": 5,
   "metadata": {
    "ExecuteTime": {
     "end_time": "2018-08-30T18:24:46.076924Z",
     "start_time": "2018-08-30T18:24:45.987445Z"
    }
   },
   "outputs": [
    {
     "name": "stdout",
     "output_type": "stream",
     "text": [
      "tensor([-0.3365,  0.0989, -0.0208,  0.0498], grad_fn=<ThAddBackward>)\n",
      "tensor([-0.3551,  0.0762,  0.0167,  0.0112], grad_fn=<ThAddBackward>)\n",
      "tensor([-0.2144,  0.0657, -0.0687, -0.0081], grad_fn=<ThAddBackward>)\n",
      "tensor([-0.3639,  0.0541,  0.0408,  0.0614], grad_fn=<ThAddBackward>)\n",
      "tensor([-0.2373,  0.0049, -0.0651,  0.0248], grad_fn=<ThAddBackward>)\n",
      "tensor([-0.3607,  0.0225, -0.0104,  0.0261], grad_fn=<ThAddBackward>)\n",
      "tensor([-0.3975,  0.0774,  0.0613,  0.0664], grad_fn=<ThAddBackward>)\n",
      "tensor([-0.1656,  0.0688,  0.0381, -0.0737], grad_fn=<ThAddBackward>)\n",
      "tensor([-0.2867,  0.0602, -0.0726,  0.0368], grad_fn=<ThAddBackward>)\n",
      "tensor([-0.2483,  0.0600, -0.0234, -0.0442], grad_fn=<ThAddBackward>)\n",
      "tensor([-0.2502,  0.0440, -0.0178, -0.0657], grad_fn=<ThAddBackward>)\n",
      "tensor([-0.2740,  0.0430, -0.0662, -0.0250], grad_fn=<ThAddBackward>)\n",
      "tensor([-0.2278,  0.0579, -0.0687,  0.0282], grad_fn=<ThAddBackward>)\n",
      "tensor([-0.2770,  0.0167, -0.0824, -0.0171], grad_fn=<ThAddBackward>)\n",
      "tensor([-0.2907,  0.1685,  0.0194,  0.0323], grad_fn=<ThAddBackward>)\n",
      "tensor([-0.3068,  0.0186, -0.0107, -0.0838], grad_fn=<ThAddBackward>)\n"
     ]
    }
   ],
   "source": [
    "ai = DQN(gamma)\n",
    "\n",
    "for i in range(env.observation_space.n):\n",
    "    print (ai.model(torch.Tensor((to_categorical(i, num_classes = 16))).squeeze(0)))"
   ]
  },
  {
   "cell_type": "markdown",
   "metadata": {},
   "source": [
    "# Learning"
   ]
  },
  {
   "cell_type": "markdown",
   "metadata": {},
   "source": [
    "Now we can go through our episodes and realize the learning :"
   ]
  },
  {
   "cell_type": "code",
   "execution_count": 6,
   "metadata": {
    "ExecuteTime": {
     "end_time": "2018-08-30T18:25:18.671787Z",
     "start_time": "2018-08-30T18:24:46.078919Z"
    },
    "scrolled": false
   },
   "outputs": [
    {
     "name": "stderr",
     "output_type": "stream",
     "text": [
      "C:\\Users\\Portable\\Anaconda3\\lib\\site-packages\\ipykernel_launcher.py:19: UserWarning: invalid index of a 0-dim tensor. This will be an error in PyTorch 0.5. Use tensor.item() to convert a 0-dim tensor to a Python number\n"
     ]
    }
   ],
   "source": [
    "for episode in range(number_episodes):\n",
    "    #e=0.2-episode/number_episodes\n",
    "    if episode == 1000:\n",
    "        e=0\n",
    "    current_state = torch.Tensor(to_categorical(env.reset(), num_classes = 16))\n",
    "    cumulative_reward = 0\n",
    "    \n",
    "    for t in range(100):\n",
    "        action = ai.select_action(current_state)\n",
    "        next_state, reward, done, _ = env.step(np.int64(action))      \n",
    "        next_state = to_categorical(next_state, num_classes = 16)\n",
    "        cumulative_reward+=reward\n",
    "        #env.render()\n",
    "        ai.learn(torch.Tensor(current_state),torch.Tensor(next_state),reward,action,done)\n",
    "        if done:                \n",
    "            break\n",
    "        \n",
    "        current_state = next_state\n",
    "    all_reward.append(cumulative_reward)"
   ]
  },
  {
   "cell_type": "markdown",
   "metadata": {},
   "source": [
    "# Results"
   ]
  },
  {
   "cell_type": "code",
   "execution_count": 7,
   "metadata": {
    "ExecuteTime": {
     "end_time": "2018-08-30T18:25:18.684755Z",
     "start_time": "2018-08-30T18:25:18.673782Z"
    }
   },
   "outputs": [],
   "source": [
    "learning = []\n",
    "y = []\n",
    "batch_size = 100\n",
    "for i in range(0,len(all_reward),batch_size):\n",
    "    learning.append(sum(all_reward[i:i+batch_size])/batch_size)\n",
    "    y.append(i)"
   ]
  },
  {
   "cell_type": "code",
   "execution_count": 8,
   "metadata": {
    "ExecuteTime": {
     "end_time": "2018-08-30T18:25:18.976085Z",
     "start_time": "2018-08-30T18:25:18.690737Z"
    }
   },
   "outputs": [
    {
     "data": {
      "text/plain": [
       "Text(0.5,1,'Evolution of the average reward')"
      ]
     },
     "execution_count": 8,
     "metadata": {},
     "output_type": "execute_result"
    },
    {
     "data": {
      "image/png": "[encoded data removed]",
      "text/plain": [
       "<matplotlib.figure.Figure at 0x24dd61600f0>"
      ]
     },
     "metadata": {},
     "output_type": "display_data"
    }
   ],
   "source": [
    "plt.plot(y,learning)\n",
    "plt.ylabel('Reward')\n",
    "plt.xlabel('Number of iterations')\n",
    "plt.title('Evolution of the average reward')"
   ]
  },
  {
   "cell_type": "markdown",
   "metadata": {},
   "source": [
    "After the 1000th iteration, we stop to do 20% of random moves, that's why the average reward improved."
   ]
  },
  {
   "cell_type": "code",
   "execution_count": 9,
   "metadata": {
    "ExecuteTime": {
     "end_time": "2018-08-30T18:25:19.176547Z",
     "start_time": "2018-08-30T18:25:18.979076Z"
    },
    "scrolled": true
   },
   "outputs": [
    {
     "data": {
      "text/plain": [
       "[<matplotlib.lines.Line2D at 0x24dd624b940>]"
      ]
     },
     "execution_count": 9,
     "metadata": {},
     "output_type": "execute_result"
    },
    {
     "data": {
      "image/png": "[encoded data removed]",
      "text/plain": [
       "<matplotlib.figure.Figure at 0x24dd6158d30>"
      ]
     },
     "metadata": {},
     "output_type": "display_data"
    }
   ],
   "source": [
    "plt.plot(all_reward)"
   ]
  },
  {
   "cell_type": "markdown",
   "metadata": {},
   "source": [
    "### Reference:\n",
    "\n",
    "Deep Q-network with TensorFlow:  \n",
    "https://medium.com/emergent-future/simple-reinforcement-learning-with-tensorflow-part-0-q-learning-with-tables-and-neural-networks-d195264329d0"
   ]
  }
 ],
 "metadata": {
  "kernelspec": {
   "display_name": "Python 3",
   "language": "python",
   "name": "python3"
  },
  "language_info": {
   "codemirror_mode": {
    "name": "ipython",
    "version": 3
   },
   "file_extension": ".py",
   "mimetype": "text/x-python",
   "name": "python",
   "nbconvert_exporter": "python",
   "pygments_lexer": "ipython3",
   "version": "3.6.4"
  },
  "varInspector": {
   "cols": {
    "lenName": 16,
    "lenType": 16,
    "lenVar": 40
   },
   "kernels_config": {
    "python": {
     "delete_cmd_postfix": "",
     "delete_cmd_prefix": "del ",
     "library": "var_list.py",
     "varRefreshCmd": "print(var_dic_list())"
    },
    "r": {
     "delete_cmd_postfix": ") ",
     "delete_cmd_prefix": "rm(",
     "library": "var_list.r",
     "varRefreshCmd": "cat(var_dic_list()) "
    }
   },
   "types_to_exclude": [
    "module",
    "function",
    "builtin_function_or_method",
    "instance",
    "_Feature"
   ],
   "window_display": false
  }
 },
 "nbformat": 4,
 "nbformat_minor": 2
}
