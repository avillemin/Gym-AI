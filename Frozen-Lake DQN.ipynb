{
 "cells": [
  {
   "cell_type": "markdown",
   "metadata": {},
   "source": [
    "Not working yet"
   ]
  },
  {
   "cell_type": "code",
   "execution_count": 1,
   "metadata": {
    "ExecuteTime": {
     "end_time": "2018-08-19T21:08:20.543467Z",
     "start_time": "2018-08-19T21:08:15.326273Z"
    }
   },
   "outputs": [
    {
     "name": "stderr",
     "output_type": "stream",
     "text": [
      "C:\\Users\\Portable\\Anaconda3\\lib\\site-packages\\h5py\\__init__.py:36: FutureWarning: Conversion of the second argument of issubdtype from `float` to `np.floating` is deprecated. In future, it will be treated as `np.float64 == np.dtype(float).type`.\n",
      "  from ._conv import register_converters as _register_converters\n",
      "Using TensorFlow backend.\n"
     ]
    }
   ],
   "source": [
    "import numpy as np\n",
    "import torch.nn as nn\n",
    "import torch.nn.functional as F\n",
    "from torch.autograd import Variable\n",
    "import torch.optim as optim\n",
    "import torch\n",
    "import time\n",
    "\n",
    "import matplotlib.pyplot as plt\n",
    "\n",
    "from keras.utils.np_utils import to_categorical\n",
    "\n",
    "import gym"
   ]
  },
  {
   "cell_type": "code",
   "execution_count": 2,
   "metadata": {
    "ExecuteTime": {
     "end_time": "2018-08-19T21:08:21.066917Z",
     "start_time": "2018-08-19T21:08:20.547309Z"
    }
   },
   "outputs": [],
   "source": [
    "env = gym.make('FrozenLake-v0')\n",
    "nb_neurons = 60\n",
    "temperature = 20\n",
    "learning_rate = 0.06\n",
    "gamma = 0.9"
   ]
  },
  {
   "cell_type": "code",
   "execution_count": 3,
   "metadata": {
    "ExecuteTime": {
     "end_time": "2018-08-19T21:08:21.087960Z",
     "start_time": "2018-08-19T21:08:21.068913Z"
    }
   },
   "outputs": [],
   "source": [
    "class brain(nn.Module):\n",
    "    \n",
    "    def __init__(self):\n",
    "        super(brain,self).__init__()\n",
    "        self.fc1 = nn.Linear(16,nb_neurons)\n",
    "        self.fc2 = nn.Linear(nb_neurons,env.action_space.n)\n",
    "    \n",
    "    def forward(self,state):\n",
    "        x = F.relu(self.fc1(state))\n",
    "        q_values = self.fc2(x)\n",
    "        return q_values"
   ]
  },
  {
   "cell_type": "code",
   "execution_count": 13,
   "metadata": {
    "ExecuteTime": {
     "end_time": "2018-08-19T21:11:46.421325Z",
     "start_time": "2018-08-19T21:11:46.365386Z"
    }
   },
   "outputs": [],
   "source": [
    "class DQN():\n",
    "    def __init__(self,gamma):\n",
    "        self.model=brain()\n",
    "        self.gamma = gamma\n",
    "        self.optimizer = optim.Adam(self.model.parameters(), lr = learning_rate)\n",
    "        \n",
    "    def select_action(self,state):\n",
    "        probs=F.softmax(self.model(torch.Tensor(state))*temperature)\n",
    "        #print(probs)\n",
    "        action = probs.multinomial(4)\n",
    "        #print(action)\n",
    "        return action.data[0]\n",
    "    \n",
    "    def learn(self, current_state, next_state,reward,action):\n",
    "        output = self.model(current_state)\n",
    "        next_output = self.model(next_state)\n",
    "        target = reward + self.gamma*(next_output.detach().max()[0])\n",
    "        td_loss = F.smooth_l1_loss(output[action], target)\n",
    "        #print(td_loss)\n",
    "        self.optimizer.zero_grad()\n",
    "        td_loss.backward()\n",
    "        self.optimizer.step()\n",
    "        "
   ]
  },
  {
   "cell_type": "code",
   "execution_count": 12,
   "metadata": {
    "ExecuteTime": {
     "end_time": "2018-08-19T21:11:35.552166Z",
     "start_time": "2018-08-19T21:11:35.113395Z"
    }
   },
   "outputs": [
    {
     "name": "stderr",
     "output_type": "stream",
     "text": [
      "C:\\Users\\Portable\\Anaconda3\\lib\\site-packages\\ipykernel_launcher.py:8: UserWarning: Implicit dimension choice for softmax has been deprecated. Change the call to include dim=X as an argument.\n",
      "  \n",
      "C:\\Users\\Portable\\Anaconda3\\lib\\site-packages\\ipykernel_launcher.py:17: UserWarning: invalid index of a 0-dim tensor. This will be an error in PyTorch 0.5. Use tensor.item() to convert a 0-dim tensor to a Python number\n"
     ]
    }
   ],
   "source": [
    "number_episodes = 30\n",
    "ai = DQN(gamma)\n",
    "all_reward = []\n",
    "\n",
    "for episode in range(number_episodes):\n",
    "    \n",
    "    current_state = env.reset()\n",
    "    #print(current_state)\n",
    "    current_state = to_categorical(current_state, num_classes = 16)\n",
    "    #print(ai.model(torch.Tensor(current_state)))\n",
    "    cumulative_reward = 0\n",
    "    for t in range(100):\n",
    "        action = ai.select_action(current_state)\n",
    "        next_state, reward, done, _ = env.step(np.int64(action))      \n",
    "        next_state = to_categorical(next_state, num_classes = 16)\n",
    "        \n",
    "        ai.learn(torch.Tensor(current_state),torch.Tensor(next_state),reward,action)\n",
    "        cumulative_reward+=reward \n",
    "        \n",
    "        if done:\n",
    "            break\n",
    "        current_state = next_state\n",
    "    all_reward.append(cumulative_reward)"
   ]
  },
  {
   "cell_type": "code",
   "execution_count": 6,
   "metadata": {
    "ExecuteTime": {
     "end_time": "2018-08-19T21:08:40.705393Z",
     "start_time": "2018-08-19T21:08:40.692429Z"
    }
   },
   "outputs": [],
   "source": [
    "learning = []\n",
    "y = []\n",
    "batch_size = 200\n",
    "for i in range(0,len(all_reward),batch_size):\n",
    "    learning.append(sum(all_reward[i:i+batch_size])/batch_size)\n",
    "    y.append(i)"
   ]
  },
  {
   "cell_type": "code",
   "execution_count": 7,
   "metadata": {
    "ExecuteTime": {
     "end_time": "2018-08-19T21:08:41.172143Z",
     "start_time": "2018-08-19T21:08:40.712374Z"
    }
   },
   "outputs": [
    {
     "data": {
      "text/plain": [
       "Text(0.5,1,'Evolution of the reward')"
      ]
     },
     "execution_count": 7,
     "metadata": {},
     "output_type": "execute_result"
    },
    {
     "data": {
      "image/png": "[encoded data removed]",
      "text/plain": [
       "<matplotlib.figure.Figure at 0x1cb64b08898>"
      ]
     },
     "metadata": {},
     "output_type": "display_data"
    }
   ],
   "source": [
    "plt.plot(y,learning)\n",
    "plt.ylabel('Reward')\n",
    "plt.xlabel('Number of iterations')\n",
    "plt.title('Evolution of the reward')"
   ]
  },
  {
   "cell_type": "code",
   "execution_count": 8,
   "metadata": {
    "ExecuteTime": {
     "end_time": "2018-08-19T21:08:41.463373Z",
     "start_time": "2018-08-19T21:08:41.178147Z"
    }
   },
   "outputs": [
    {
     "data": {
      "text/plain": [
       "[<matplotlib.lines.Line2D at 0x1cb64be9cc0>]"
      ]
     },
     "execution_count": 8,
     "metadata": {},
     "output_type": "execute_result"
    },
    {
     "data": {
      "image/png": "[encoded data removed]",
      "text/plain": [
       "<matplotlib.figure.Figure at 0x1cb64b08400>"
      ]
     },
     "metadata": {},
     "output_type": "display_data"
    }
   ],
   "source": [
    "plt.plot(all_reward)"
   ]
  }
 ],
 "metadata": {
  "kernelspec": {
   "display_name": "Python 3",
   "language": "python",
   "name": "python3"
  },
  "language_info": {
   "codemirror_mode": {
    "name": "ipython",
    "version": 3
   },
   "file_extension": ".py",
   "mimetype": "text/x-python",
   "name": "python",
   "nbconvert_exporter": "python",
   "pygments_lexer": "ipython3",
   "version": "3.6.4"
  },
  "varInspector": {
   "cols": {
    "lenName": 16,
    "lenType": 16,
    "lenVar": 40
   },
   "kernels_config": {
    "python": {
     "delete_cmd_postfix": "",
     "delete_cmd_prefix": "del ",
     "library": "var_list.py",
     "varRefreshCmd": "print(var_dic_list())"
    },
    "r": {
     "delete_cmd_postfix": ") ",
     "delete_cmd_prefix": "rm(",
     "library": "var_list.r",
     "varRefreshCmd": "cat(var_dic_list()) "
    }
   },
   "types_to_exclude": [
    "module",
    "function",
    "builtin_function_or_method",
    "instance",
    "_Feature"
   ],
   "window_display": false
  }
 },
 "nbformat": 4,
 "nbformat_minor": 2
}
