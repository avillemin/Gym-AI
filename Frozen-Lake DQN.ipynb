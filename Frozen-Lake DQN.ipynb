{
 "cells": [
  {
   "cell_type": "markdown",
   "metadata": {},
   "source": [
    "Not working yet"
   ]
  },
  {
   "cell_type": "markdown",
   "metadata": {},
   "source": [
    "OpenAI environment : https://gym.openai.com/envs/FrozenLake-v0/\n",
    "\n",
    "The agent controls the movement of a character in a grid world. Some tiles of the grid are walkable, and others lead to the agent falling into the water. Additionally, the movement direction of the agent is uncertain and only partially depends on the chosen direction. The agent is rewarded for finding a walkable path to a goal tile.\n",
    "\n",
    "The surface is described using a grid like the following:\n",
    "\n",
    "SFFF       (S: starting point, safe)  \n",
    "FHFH       (F: frozen surface, safe)  \n",
    "FFFH       (H: hole, fall to your doom)  \n",
    "HFFG       (G: goal, where the frisbee is located)"
   ]
  },
  {
   "cell_type": "code",
   "execution_count": 1,
   "metadata": {
    "ExecuteTime": {
     "end_time": "2018-08-22T21:29:00.687254Z",
     "start_time": "2018-08-22T21:28:55.377779Z"
    }
   },
   "outputs": [
    {
     "name": "stderr",
     "output_type": "stream",
     "text": [
      "C:\\Users\\Portable\\Anaconda3\\lib\\site-packages\\h5py\\__init__.py:36: FutureWarning: Conversion of the second argument of issubdtype from `float` to `np.floating` is deprecated. In future, it will be treated as `np.float64 == np.dtype(float).type`.\n",
      "  from ._conv import register_converters as _register_converters\n",
      "Using TensorFlow backend.\n"
     ]
    }
   ],
   "source": [
    "import numpy as np\n",
    "import torch.nn as nn\n",
    "import torch.nn.functional as F\n",
    "from torch.autograd import Variable\n",
    "import torch.optim as optim\n",
    "import torch\n",
    "import time\n",
    "\n",
    "import matplotlib.pyplot as plt\n",
    "\n",
    "from keras.utils.np_utils import to_categorical\n",
    "\n",
    "import gym"
   ]
  },
  {
   "cell_type": "code",
   "execution_count": 2,
   "metadata": {
    "ExecuteTime": {
     "end_time": "2018-08-22T21:29:01.172955Z",
     "start_time": "2018-08-22T21:29:00.691245Z"
    }
   },
   "outputs": [],
   "source": [
    "env = gym.make('FrozenLake-v0')\n",
    "nb_neurons = 40\n",
    "#emperature = 2000\n",
    "learning_rate = 0.01\n",
    "gamma = 0.8\n",
    "e = 0.15"
   ]
  },
  {
   "cell_type": "code",
   "execution_count": 3,
   "metadata": {
    "ExecuteTime": {
     "end_time": "2018-08-22T21:29:01.184927Z",
     "start_time": "2018-08-22T21:29:01.174950Z"
    }
   },
   "outputs": [],
   "source": [
    "class brain(nn.Module):\n",
    "    \n",
    "    def __init__(self):\n",
    "        super(brain,self).__init__()\n",
    "        self.fc1 = nn.Linear(16,nb_neurons)\n",
    "        self.fc2 = nn.Linear(nb_neurons,env.action_space.n)\n",
    "    \n",
    "    def forward(self,state):\n",
    "        x = F.relu(self.fc1(state))\n",
    "        q_values = self.fc2(x)\n",
    "        return q_values"
   ]
  },
  {
   "cell_type": "code",
   "execution_count": 4,
   "metadata": {
    "ExecuteTime": {
     "end_time": "2018-08-22T21:29:01.346823Z",
     "start_time": "2018-08-22T21:29:01.187916Z"
    }
   },
   "outputs": [],
   "source": [
    "class DQN():\n",
    "    def __init__(self,gamma):\n",
    "        self.model=brain()\n",
    "        self.gamma = gamma\n",
    "        self.optimizer = optim.Adam(self.model.parameters(), lr = learning_rate)\n",
    "        \n",
    "    def select_action(self,state):\n",
    "        #probs=F.softmax(self.model(torch.Tensor(state).detach())*temperature)\n",
    "        #action = probs.multinomial(4)\n",
    "        action = np.argmax(self.model(torch.Tensor(state).detach()).data)\n",
    "        if np.random.rand(1)<e:\n",
    "            action = env.action_space.sample()\n",
    "        else:\n",
    "            action = np.argmax(self.model(torch.Tensor(state).detach()).data)\n",
    "        return action\n",
    "    \n",
    "    def learn(self, current_state, next_state,reward,action):\n",
    "        #with torch.no_grad():\n",
    "        output = self.model(current_state)\n",
    "        #print(current_state.grad)\n",
    "        #print(output)\n",
    "        next_output = self.model(next_state).detach()\n",
    "        #print(next_output)\n",
    "        #print(next_output.detach().max()[0])\n",
    "        target = (reward + self.gamma*(next_output.detach().max()[0])).detach()\n",
    "        #print(next_output.requires_grad)\n",
    "        td_loss = F.smooth_l1_loss(output[action], target)\n",
    "        #td_loss = (output[action] - target)**2\n",
    "        #print(td_loss)\n",
    "        #print(td_loss)\n",
    "        self.optimizer.zero_grad()\n",
    "        td_loss.backward()\n",
    "        for param in self.model.parameters():\n",
    "            param.grad.data.clamp_(-1, 1)\n",
    "        self.optimizer.step()\n",
    "        "
   ]
  },
  {
   "cell_type": "code",
   "execution_count": 5,
   "metadata": {
    "ExecuteTime": {
     "end_time": "2018-08-22T21:29:22.492301Z",
     "start_time": "2018-08-22T21:29:01.349820Z"
    }
   },
   "outputs": [
    {
     "name": "stderr",
     "output_type": "stream",
     "text": [
      "C:\\Users\\Portable\\Anaconda3\\lib\\site-packages\\ipykernel_launcher.py:25: UserWarning: invalid index of a 0-dim tensor. This will be an error in PyTorch 0.5. Use tensor.item() to convert a 0-dim tensor to a Python number\n"
     ]
    }
   ],
   "source": [
    "number_episodes = 3000\n",
    "ai = DQN(gamma)\n",
    "all_reward = []\n",
    "\n",
    "for episode in range(number_episodes):\n",
    "    \n",
    "    current_state=torch.randn(1,16,requires_grad=True)\n",
    "    current_state = torch.Tensor(to_categorical(env.reset(), num_classes = 16))\n",
    "    #print(current_state)\n",
    "    #current_state = to_categorical(current_state, num_classes = 16)\n",
    "    #print(ai.model(torch.Tensor(current_state)))\n",
    "    cumulative_reward = 0\n",
    "    for t in range(100):\n",
    "        action = ai.select_action(current_state)\n",
    "        next_state, reward, done, _ = env.step(np.int64(action))      \n",
    "        next_state = to_categorical(next_state, num_classes = 16)\n",
    "        #if current_state[14]==1:\n",
    "        #    print(reward)\n",
    "        #    print(ai.model(torch.Tensor(to_categorical(14, num_classes = 16)).detach()))\n",
    "        ai.learn(torch.Tensor(current_state),torch.Tensor(next_state),reward,action)\n",
    "        #if current_state[14]==1:\n",
    "        #    print(ai.model(torch.Tensor(to_categorical(14, num_classes = 16)).detach()))\n",
    "        cumulative_reward+=reward \n",
    "        #env.render()\n",
    "        if done:\n",
    "            break\n",
    "        current_state = next_state\n",
    "    #print(ai.model(torch.Tensor(to_categorical(14, num_classes = 16)).detach()))\n",
    "    all_reward.append(cumulative_reward)"
   ]
  },
  {
   "cell_type": "code",
   "execution_count": 6,
   "metadata": {
    "ExecuteTime": {
     "end_time": "2018-08-22T21:29:22.504269Z",
     "start_time": "2018-08-22T21:29:22.494295Z"
    }
   },
   "outputs": [],
   "source": [
    "learning = []\n",
    "y = []\n",
    "batch_size = 200\n",
    "for i in range(0,len(all_reward),batch_size):\n",
    "    learning.append(sum(all_reward[i:i+batch_size])/batch_size)\n",
    "    y.append(i)"
   ]
  },
  {
   "cell_type": "code",
   "execution_count": 7,
   "metadata": {
    "ExecuteTime": {
     "end_time": "2018-08-22T21:29:22.913877Z",
     "start_time": "2018-08-22T21:29:22.507262Z"
    }
   },
   "outputs": [
    {
     "data": {
      "text/plain": [
       "Text(0.5,1,'Evolution of the reward')"
      ]
     },
     "execution_count": 7,
     "metadata": {},
     "output_type": "execute_result"
    },
    {
     "data": {
      "image/png": "[encoded data removed]",
      "text/plain": [
       "<matplotlib.figure.Figure at 0x212786fca58>"
      ]
     },
     "metadata": {},
     "output_type": "display_data"
    }
   ],
   "source": [
    "plt.plot(y,learning)\n",
    "plt.ylabel('Reward')\n",
    "plt.xlabel('Number of iterations')\n",
    "plt.title('Evolution of the reward')"
   ]
  },
  {
   "cell_type": "code",
   "execution_count": 8,
   "metadata": {
    "ExecuteTime": {
     "end_time": "2018-08-22T21:29:23.238858Z",
     "start_time": "2018-08-22T21:29:22.915871Z"
    },
    "scrolled": true
   },
   "outputs": [
    {
     "data": {
      "text/plain": [
       "[<matplotlib.lines.Line2D at 0x212787e0b38>]"
      ]
     },
     "execution_count": 8,
     "metadata": {},
     "output_type": "execute_result"
    },
    {
     "data": {
      "image/png": "[encoded data removed]",
      "text/plain": [
       "<matplotlib.figure.Figure at 0x212786fc7b8>"
      ]
     },
     "metadata": {},
     "output_type": "display_data"
    }
   ],
   "source": [
    "plt.plot(all_reward)"
   ]
  }
 ],
 "metadata": {
  "kernelspec": {
   "display_name": "Python 3",
   "language": "python",
   "name": "python3"
  },
  "language_info": {
   "codemirror_mode": {
    "name": "ipython",
    "version": 3
   },
   "file_extension": ".py",
   "mimetype": "text/x-python",
   "name": "python",
   "nbconvert_exporter": "python",
   "pygments_lexer": "ipython3",
   "version": "3.6.4"
  },
  "varInspector": {
   "cols": {
    "lenName": 16,
    "lenType": 16,
    "lenVar": 40
   },
   "kernels_config": {
    "python": {
     "delete_cmd_postfix": "",
     "delete_cmd_prefix": "del ",
     "library": "var_list.py",
     "varRefreshCmd": "print(var_dic_list())"
    },
    "r": {
     "delete_cmd_postfix": ") ",
     "delete_cmd_prefix": "rm(",
     "library": "var_list.r",
     "varRefreshCmd": "cat(var_dic_list()) "
    }
   },
   "types_to_exclude": [
    "module",
    "function",
    "builtin_function_or_method",
    "instance",
    "_Feature"
   ],
   "window_display": false
  }
 },
 "nbformat": 4,
 "nbformat_minor": 2
}
