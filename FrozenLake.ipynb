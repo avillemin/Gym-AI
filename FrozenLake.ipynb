{
 "cells": [
  {
   "cell_type": "markdown",
   "metadata": {
    "ExecuteTime": {
     "end_time": "2018-08-18T21:05:15.263327Z",
     "start_time": "2018-08-18T21:05:15.254934Z"
    }
   },
   "source": [
    "# Gym.OpenAI : Frozen Lake - Introduction to Q-Learning"
   ]
  },
  {
   "cell_type": "markdown",
   "metadata": {},
   "source": [
    "OpenAI environment : https://gym.openai.com/envs/FrozenLake-v0/\n",
    "\n",
    "The agent controls the movement of a character in a grid world. Some tiles of the grid are walkable, and others lead to the agent falling into the water. Additionally, the movement direction of the agent is uncertain and only partially depends on the chosen direction. The agent is rewarded for finding a walkable path to a goal tile.\n",
    "\n",
    "The surface is described using a grid like the following:\n",
    "\n",
    "    SFFF       (S: starting point, safe)  \n",
    "    FHFH       (F: frozen surface, safe)  \n",
    "    FFFH       (H: hole, fall to your doom)  \n",
    "    HFFG       (G: goal, where the frisbee is located)"
   ]
  },
  {
   "cell_type": "code",
   "execution_count": 1,
   "metadata": {
    "ExecuteTime": {
     "end_time": "2018-08-23T12:00:56.579286Z",
     "start_time": "2018-08-23T12:00:55.936665Z"
    }
   },
   "outputs": [],
   "source": [
    "import gym\n",
    "import numpy as np\n",
    "import matplotlib.pyplot as plt"
   ]
  },
  {
   "cell_type": "code",
   "execution_count": 2,
   "metadata": {
    "ExecuteTime": {
     "end_time": "2018-08-23T12:00:57.051692Z",
     "start_time": "2018-08-23T12:00:56.582630Z"
    }
   },
   "outputs": [],
   "source": [
    "env=gym.make('FrozenLake-v0')\n",
    "Q_values = np.zeros([env.observation_space.n,env.action_space.n])"
   ]
  },
  {
   "cell_type": "code",
   "execution_count": 3,
   "metadata": {
    "ExecuteTime": {
     "end_time": "2018-08-23T12:00:57.061068Z",
     "start_time": "2018-08-23T12:00:57.053416Z"
    }
   },
   "outputs": [],
   "source": [
    "nb_iteration = 3000\n",
    "learning_rate = 0.8\n",
    "gamma = 0.95\n",
    "all_reward = []"
   ]
  },
  {
   "cell_type": "code",
   "execution_count": 4,
   "metadata": {
    "ExecuteTime": {
     "end_time": "2018-08-23T12:01:03.608019Z",
     "start_time": "2018-08-23T12:00:57.066482Z"
    }
   },
   "outputs": [],
   "source": [
    "for iteration in range(nb_iteration):\n",
    "    current_state = env.reset()\n",
    "    j=0\n",
    "    d = False\n",
    "    #env.render()\n",
    "    stacked_reward = 0\n",
    "    while j<1000:\n",
    "        j+=1\n",
    "        action = np.argmax(Q_values[current_state,:]+np.random.randn(1,env.action_space.n)/(1.+iteration))\n",
    "        next_state,reward,d,info = env.step(action)\n",
    "        Q_values[current_state,action] = Q_values[current_state,action] + learning_rate*(reward + gamma*max(Q_values[next_state,:]) - Q_values[current_state,action])\n",
    "        current_state = next_state\n",
    "        stacked_reward+=reward\n",
    "        #if iteration == nb_iteration-1:\n",
    "        #    env.render()\n",
    "        if d:\n",
    "            break\n",
    "    #print(Q_values)\n",
    "    all_reward.append(stacked_reward)"
   ]
  },
  {
   "cell_type": "code",
   "execution_count": 5,
   "metadata": {
    "ExecuteTime": {
     "end_time": "2018-08-23T12:01:03.628419Z",
     "start_time": "2018-08-23T12:01:03.608019Z"
    }
   },
   "outputs": [
    {
     "name": "stdout",
     "output_type": "stream",
     "text": [
      "[[2.58231092e-01 4.27763762e-03 7.02415915e-03 7.10743413e-03]\n",
      " [2.92049103e-04 3.91123853e-04 1.24716412e-03 9.32239566e-02]\n",
      " [9.54900554e-02 7.59657050e-04 1.40889839e-03 1.82073590e-03]\n",
      " [1.94124405e-04 3.82249339e-04 1.32928345e-03 1.92000885e-03]\n",
      " [3.24890615e-01 9.21998681e-04 3.30014699e-03 3.48278225e-04]\n",
      " [0.00000000e+00 0.00000000e+00 0.00000000e+00 0.00000000e+00]\n",
      " [4.34746640e-02 3.18642832e-04 5.36586701e-05 4.14364255e-04]\n",
      " [0.00000000e+00 0.00000000e+00 0.00000000e+00 0.00000000e+00]\n",
      " [1.95198524e-04 1.74488225e-04 4.79680465e-05 1.58629915e-01]\n",
      " [0.00000000e+00 2.53187290e-01 1.13068226e-03 0.00000000e+00]\n",
      " [6.63866643e-01 2.25938785e-04 2.53105056e-04 1.39350326e-05]\n",
      " [0.00000000e+00 0.00000000e+00 0.00000000e+00 0.00000000e+00]\n",
      " [0.00000000e+00 0.00000000e+00 0.00000000e+00 0.00000000e+00]\n",
      " [8.64867556e-04 5.24813743e-03 2.73321517e-01 0.00000000e+00]\n",
      " [0.00000000e+00 0.00000000e+00 0.00000000e+00 9.71756414e-01]\n",
      " [0.00000000e+00 0.00000000e+00 0.00000000e+00 0.00000000e+00]]\n"
     ]
    }
   ],
   "source": [
    "print(Q_values)"
   ]
  },
  {
   "cell_type": "code",
   "execution_count": 6,
   "metadata": {
    "ExecuteTime": {
     "end_time": "2018-08-23T12:01:03.799563Z",
     "start_time": "2018-08-23T12:01:03.636891Z"
    }
   },
   "outputs": [
    {
     "name": "stdout",
     "output_type": "stream",
     "text": [
      "Total reward over 3000 iterations:\n",
      "1513.0\n"
     ]
    }
   ],
   "source": [
    "print ('Total reward over %d iterations:' % nb_iteration)\n",
    "print(sum(all_reward))"
   ]
  },
  {
   "cell_type": "markdown",
   "metadata": {
    "ExecuteTime": {
     "end_time": "2018-08-18T21:14:43.976720Z",
     "start_time": "2018-08-18T21:14:43.968360Z"
    }
   },
   "source": [
    "### Let's plot the evolution of the reward"
   ]
  },
  {
   "cell_type": "code",
   "execution_count": 7,
   "metadata": {
    "ExecuteTime": {
     "end_time": "2018-08-23T12:01:04.059698Z",
     "start_time": "2018-08-23T12:01:03.803237Z"
    }
   },
   "outputs": [],
   "source": [
    "learning = []\n",
    "y = []\n",
    "batch_size = 200\n",
    "for i in range(0,len(all_reward),batch_size):\n",
    "    learning.append(sum(all_reward[i:i+batch_size])/batch_size)\n",
    "    y.append(i)"
   ]
  },
  {
   "cell_type": "code",
   "execution_count": 8,
   "metadata": {
    "ExecuteTime": {
     "end_time": "2018-08-23T12:01:04.555254Z",
     "start_time": "2018-08-23T12:01:04.063745Z"
    },
    "scrolled": true
   },
   "outputs": [
    {
     "data": {
      "text/plain": [
       "Text(0.5,1,'Evolution of the reward')"
      ]
     },
     "execution_count": 8,
     "metadata": {},
     "output_type": "execute_result"
    },
    {
     "data": {
      "image/png": "[encoded data removed]",
      "text/plain": [
       "<matplotlib.figure.Figure at 0x224a6b30dd8>"
      ]
     },
     "metadata": {},
     "output_type": "display_data"
    }
   ],
   "source": [
    "plt.plot(y,learning)\n",
    "plt.ylabel('Reward')\n",
    "plt.xlabel('Number of iterations')\n",
    "plt.title('Evolution of the reward')"
   ]
  },
  {
   "cell_type": "code",
   "execution_count": 9,
   "metadata": {
    "ExecuteTime": {
     "end_time": "2018-08-23T12:01:04.956315Z",
     "start_time": "2018-08-23T12:01:04.557912Z"
    }
   },
   "outputs": [
    {
     "data": {
      "text/plain": [
       "[<matplotlib.lines.Line2D at 0x224a6eefac8>]"
      ]
     },
     "execution_count": 9,
     "metadata": {},
     "output_type": "execute_result"
    },
    {
     "data": {
      "image/png": "[encoded data removed]",
      "text/plain": [
       "<matplotlib.figure.Figure at 0x224a6b30668>"
      ]
     },
     "metadata": {},
     "output_type": "display_data"
    }
   ],
   "source": [
    "plt.plot(all_reward)"
   ]
  }
 ],
 "metadata": {
  "kernelspec": {
   "display_name": "Python 3",
   "language": "python",
   "name": "python3"
  },
  "language_info": {
   "codemirror_mode": {
    "name": "ipython",
    "version": 3
   },
   "file_extension": ".py",
   "mimetype": "text/x-python",
   "name": "python",
   "nbconvert_exporter": "python",
   "pygments_lexer": "ipython3",
   "version": "3.6.4"
  },
  "varInspector": {
   "cols": {
    "lenName": 16,
    "lenType": 16,
    "lenVar": 40
   },
   "kernels_config": {
    "python": {
     "delete_cmd_postfix": "",
     "delete_cmd_prefix": "del ",
     "library": "var_list.py",
     "varRefreshCmd": "print(var_dic_list())"
    },
    "r": {
     "delete_cmd_postfix": ") ",
     "delete_cmd_prefix": "rm(",
     "library": "var_list.r",
     "varRefreshCmd": "cat(var_dic_list()) "
    }
   },
   "oldHeight": 261.4,
   "position": {
    "height": "282px",
    "left": "1119px",
    "right": "20px",
    "top": "122px",
    "width": "341px"
   },
   "types_to_exclude": [
    "module",
    "function",
    "builtin_function_or_method",
    "instance",
    "_Feature"
   ],
   "varInspector_section_display": "block",
   "window_display": false
  }
 },
 "nbformat": 4,
 "nbformat_minor": 2
}
