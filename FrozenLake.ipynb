{
 "cells": [
  {
   "cell_type": "markdown",
   "metadata": {
    "ExecuteTime": {
     "end_time": "2018-08-18T21:05:15.263327Z",
     "start_time": "2018-08-18T21:05:15.254934Z"
    }
   },
   "source": [
    "# Gym.OpenAI : Frozen Lake - Introduction to Q-Learning"
   ]
  },
  {
   "cell_type": "markdown",
   "metadata": {},
   "source": [
    "OpenAI environment : https://gym.openai.com/envs/FrozenLake-v0/\n",
    "\n",
    "The agent controls the movement of a character in a grid world. Some tiles of the grid are walkable, and others lead to the agent falling into the water. Additionally, the movement direction of the agent is uncertain and only partially depends on the chosen direction. The agent is rewarded for finding a walkable path to a goal tile.\n",
    "\n",
    "The surface is described using a grid like the following:\n",
    "\n",
    "    SFFF       (S: starting point, safe)  \n",
    "    FHFH       (F: frozen surface, safe)  \n",
    "    FFFH       (H: hole, fall to your doom)  \n",
    "    HFFG       (G: goal, where the frisbee is located)"
   ]
  },
  {
   "cell_type": "code",
   "execution_count": 1,
   "metadata": {
    "ExecuteTime": {
     "end_time": "2018-08-18T21:11:18.596537Z",
     "start_time": "2018-08-18T21:11:18.063453Z"
    }
   },
   "outputs": [],
   "source": [
    "import gym\n",
    "import numpy as np\n",
    "import matplotlib.pyplot as plt"
   ]
  },
  {
   "cell_type": "code",
   "execution_count": 2,
   "metadata": {
    "ExecuteTime": {
     "end_time": "2018-08-18T21:11:19.051744Z",
     "start_time": "2018-08-18T21:11:18.600404Z"
    }
   },
   "outputs": [],
   "source": [
    "env=gym.make('FrozenLake-v0')\n",
    "Q_values = np.zeros([env.observation_space.n,env.action_space.n])"
   ]
  },
  {
   "cell_type": "code",
   "execution_count": 3,
   "metadata": {
    "ExecuteTime": {
     "end_time": "2018-08-18T21:11:19.059751Z",
     "start_time": "2018-08-18T21:11:19.053953Z"
    }
   },
   "outputs": [],
   "source": [
    "nb_iteration = 3000\n",
    "learning_rate = 0.8\n",
    "gamma = 0.95\n",
    "all_reward = []"
   ]
  },
  {
   "cell_type": "code",
   "execution_count": 4,
   "metadata": {
    "ExecuteTime": {
     "end_time": "2018-08-18T21:11:24.444091Z",
     "start_time": "2018-08-18T21:11:19.062742Z"
    }
   },
   "outputs": [
    {
     "name": "stdout",
     "output_type": "stream",
     "text": [
      "  (Left)\n",
      "SFFF\n",
      "\u001b[41mF\u001b[0mHFH\n",
      "FFFH\n",
      "HFFG\n",
      "  (Left)\n",
      "SFFF\n",
      "FHFH\n",
      "\u001b[41mF\u001b[0mFFH\n",
      "HFFG\n",
      "  (Up)\n",
      "SFFF\n",
      "FHFH\n",
      "F\u001b[41mF\u001b[0mFH\n",
      "HFFG\n",
      "  (Down)\n",
      "SFFF\n",
      "FHFH\n",
      "\u001b[41mF\u001b[0mFFH\n",
      "HFFG\n",
      "  (Up)\n",
      "SFFF\n",
      "FHFH\n",
      "F\u001b[41mF\u001b[0mFH\n",
      "HFFG\n",
      "  (Down)\n",
      "SFFF\n",
      "FHFH\n",
      "\u001b[41mF\u001b[0mFFH\n",
      "HFFG\n",
      "  (Up)\n",
      "SFFF\n",
      "FHFH\n",
      "F\u001b[41mF\u001b[0mFH\n",
      "HFFG\n",
      "  (Down)\n",
      "SFFF\n",
      "FHFH\n",
      "FF\u001b[41mF\u001b[0mH\n",
      "HFFG\n",
      "  (Left)\n",
      "SFFF\n",
      "FHFH\n",
      "FFFH\n",
      "HF\u001b[41mF\u001b[0mG\n",
      "  (Right)\n",
      "SFFF\n",
      "FHFH\n",
      "FFFH\n",
      "HFF\u001b[41mG\u001b[0m\n"
     ]
    }
   ],
   "source": [
    "for iteration in range(nb_iteration):\n",
    "    current_state = env.reset()\n",
    "    j=0\n",
    "    d = False\n",
    "    #env.render()\n",
    "    stacked_reward = 0\n",
    "    while j<1000:\n",
    "        j+=1\n",
    "        action = np.argmax(Q_values[current_state,:]+np.random.randn(1,env.action_space.n)/(1.+iteration))\n",
    "        next_state,reward,d,info = env.step(action)\n",
    "        Q_values[current_state,action] = Q_values[current_state,action] + learning_rate*(reward + gamma*max(Q_values[next_state,:]) - Q_values[current_state,action])\n",
    "        current_state = next_state\n",
    "        stacked_reward+=reward\n",
    "        if iteration == nb_iteration-1:\n",
    "            env.render()\n",
    "        if d:\n",
    "            break\n",
    "    #print(Q_values)\n",
    "    all_reward.append(stacked_reward)"
   ]
  },
  {
   "cell_type": "markdown",
   "metadata": {},
   "source": [
    "Here we printed the last try, which is a success"
   ]
  },
  {
   "cell_type": "code",
   "execution_count": 5,
   "metadata": {
    "ExecuteTime": {
     "end_time": "2018-08-18T21:11:24.453825Z",
     "start_time": "2018-08-18T21:11:24.445089Z"
    }
   },
   "outputs": [
    {
     "name": "stdout",
     "output_type": "stream",
     "text": [
      "[[9.17058147e-02 5.00456684e-03 5.86720110e-03 6.11155318e-03]\n",
      " [4.54651545e-04 1.55204094e-03 1.76876124e-03 2.15403919e-01]\n",
      " [1.45739201e-01 2.46807281e-03 8.88891738e-04 2.33092668e-03]\n",
      " [3.39632805e-04 9.48009267e-04 1.99660356e-04 2.36049031e-03]\n",
      " [1.78326703e-01 1.55240308e-03 1.60057532e-03 9.87274837e-04]\n",
      " [0.00000000e+00 0.00000000e+00 0.00000000e+00 0.00000000e+00]\n",
      " [3.14020852e-02 1.99349610e-04 1.04064604e-03 1.55498166e-07]\n",
      " [0.00000000e+00 0.00000000e+00 0.00000000e+00 0.00000000e+00]\n",
      " [2.77507665e-03 5.73939206e-04 7.72541022e-05 1.66394829e-01]\n",
      " [1.19663895e-03 6.00865833e-01 0.00000000e+00 0.00000000e+00]\n",
      " [9.04508650e-01 1.42634086e-04 1.18560665e-04 6.35841835e-05]\n",
      " [0.00000000e+00 0.00000000e+00 0.00000000e+00 0.00000000e+00]\n",
      " [0.00000000e+00 0.00000000e+00 0.00000000e+00 0.00000000e+00]\n",
      " [0.00000000e+00 2.75284866e-04 7.23227517e-01 0.00000000e+00]\n",
      " [0.00000000e+00 0.00000000e+00 9.98800984e-01 0.00000000e+00]\n",
      " [0.00000000e+00 0.00000000e+00 0.00000000e+00 0.00000000e+00]]\n"
     ]
    }
   ],
   "source": [
    "print(Q_values)"
   ]
  },
  {
   "cell_type": "code",
   "execution_count": 6,
   "metadata": {
    "ExecuteTime": {
     "end_time": "2018-08-18T21:11:24.566497Z",
     "start_time": "2018-08-18T21:11:24.463616Z"
    }
   },
   "outputs": [
    {
     "name": "stdout",
     "output_type": "stream",
     "text": [
      "Total reward over 3000 iterations:\n",
      "1639.0\n"
     ]
    }
   ],
   "source": [
    "print ('Total reward over %d iterations:' % nb_iteration)\n",
    "print(sum(all_reward))"
   ]
  },
  {
   "cell_type": "markdown",
   "metadata": {
    "ExecuteTime": {
     "end_time": "2018-08-18T21:14:43.976720Z",
     "start_time": "2018-08-18T21:14:43.968360Z"
    }
   },
   "source": [
    "### Let's plot the evolution of the reward"
   ]
  },
  {
   "cell_type": "code",
   "execution_count": 8,
   "metadata": {
    "ExecuteTime": {
     "end_time": "2018-08-18T21:11:24.735134Z",
     "start_time": "2018-08-18T21:11:24.655406Z"
    }
   },
   "outputs": [],
   "source": [
    "learning = []\n",
    "y = []\n",
    "batch_size = 100\n",
    "for i in range(0,len(all_reward),batch_size):\n",
    "    learning.append(sum(all_reward[i:i+batch_size])/batch_size)\n",
    "    y.append(i)"
   ]
  },
  {
   "cell_type": "code",
   "execution_count": 9,
   "metadata": {
    "ExecuteTime": {
     "end_time": "2018-08-18T21:11:25.113312Z",
     "start_time": "2018-08-18T21:11:24.739050Z"
    }
   },
   "outputs": [
    {
     "data": {
      "text/plain": [
       "Text(0.5,1,'Evolution of the reward')"
      ]
     },
     "execution_count": 9,
     "metadata": {},
     "output_type": "execute_result"
    },
    {
     "data": {
      "image/png": "[encoded data removed]",
      "text/plain": [
       "<matplotlib.figure.Figure at 0x1b44d4f6470>"
      ]
     },
     "metadata": {},
     "output_type": "display_data"
    }
   ],
   "source": [
    "plt.plot(y,learning)\n",
    "plt.ylabel('Reward')\n",
    "plt.xlabel('Number of iterations')\n",
    "plt.title('Evolution of the reward')"
   ]
  }
 ],
 "metadata": {
  "kernelspec": {
   "display_name": "Python 3",
   "language": "python",
   "name": "python3"
  },
  "language_info": {
   "codemirror_mode": {
    "name": "ipython",
    "version": 3
   },
   "file_extension": ".py",
   "mimetype": "text/x-python",
   "name": "python",
   "nbconvert_exporter": "python",
   "pygments_lexer": "ipython3",
   "version": "3.6.4"
  },
  "varInspector": {
   "cols": {
    "lenName": 16,
    "lenType": 16,
    "lenVar": 40
   },
   "kernels_config": {
    "python": {
     "delete_cmd_postfix": "",
     "delete_cmd_prefix": "del ",
     "library": "var_list.py",
     "varRefreshCmd": "print(var_dic_list())"
    },
    "r": {
     "delete_cmd_postfix": ") ",
     "delete_cmd_prefix": "rm(",
     "library": "var_list.r",
     "varRefreshCmd": "cat(var_dic_list()) "
    }
   },
   "oldHeight": 261.4,
   "position": {
    "height": "282px",
    "left": "1119px",
    "right": "20px",
    "top": "122px",
    "width": "341px"
   },
   "types_to_exclude": [
    "module",
    "function",
    "builtin_function_or_method",
    "instance",
    "_Feature"
   ],
   "varInspector_section_display": "block",
   "window_display": false
  }
 },
 "nbformat": 4,
 "nbformat_minor": 2
}
